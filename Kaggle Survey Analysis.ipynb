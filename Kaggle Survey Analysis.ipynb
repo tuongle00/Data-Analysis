{
 "cells": [
  {
   "cell_type": "markdown",
   "id": "4e3eaeb6",
   "metadata": {},
   "source": [
    "## Kaggle Survey Analysis 2020"
   ]
  },
  {
   "cell_type": "markdown",
   "id": "b3743a41",
   "metadata": {},
   "source": [
    "This survey contains information from 20036 representatives that do survey on Kaggle "
   ]
  },
  {
   "cell_type": "code",
   "execution_count": 83,
   "id": "ee12420d",
   "metadata": {},
   "outputs": [
    {
     "data": {
      "text/html": [
       "<div>\n",
       "<style scoped>\n",
       "    .dataframe tbody tr th:only-of-type {\n",
       "        vertical-align: middle;\n",
       "    }\n",
       "\n",
       "    .dataframe tbody tr th {\n",
       "        vertical-align: top;\n",
       "    }\n",
       "\n",
       "    .dataframe thead th {\n",
       "        text-align: right;\n",
       "    }\n",
       "</style>\n",
       "<table border=\"1\" class=\"dataframe\">\n",
       "  <thead>\n",
       "    <tr style=\"text-align: right;\">\n",
       "      <th></th>\n",
       "      <th>Unnamed: 0</th>\n",
       "      <th>Duration(seconds)</th>\n",
       "      <th>Age</th>\n",
       "      <th>Gender</th>\n",
       "      <th>Country Origin</th>\n",
       "      <th>Education</th>\n",
       "      <th>Current title</th>\n",
       "      <th>Coding Experience</th>\n",
       "      <th>Language Recommend</th>\n",
       "      <th>Computing Platform Usage</th>\n",
       "      <th>...</th>\n",
       "      <th>Courses Platform</th>\n",
       "      <th>Media Sources Favorite</th>\n",
       "      <th>Cloud Comp Platforms(Regularly Use)</th>\n",
       "      <th>Cloud Comp Products(Regularly Use)</th>\n",
       "      <th>ML Products (Regularly Use)</th>\n",
       "      <th>Big Data Products(Regularly Use)</th>\n",
       "      <th>Business Intelligence(Regularly Use)</th>\n",
       "      <th>ML Tools(Regularly Use)</th>\n",
       "      <th>automated ML Tools(Regularly Use)</th>\n",
       "      <th>Tools Help with ML</th>\n",
       "    </tr>\n",
       "  </thead>\n",
       "  <tbody>\n",
       "    <tr>\n",
       "      <th>0</th>\n",
       "      <td>1</td>\n",
       "      <td>1838</td>\n",
       "      <td>35-39</td>\n",
       "      <td>Man</td>\n",
       "      <td>Colombia</td>\n",
       "      <td>Doctoral degree</td>\n",
       "      <td>Student</td>\n",
       "      <td>5-10 years</td>\n",
       "      <td>Python</td>\n",
       "      <td>A cloud computing platform (AWS, Azure, GCP, h...</td>\n",
       "      <td>...</td>\n",
       "      <td>Coursera,Kaggle Learn Courses,University Cours...</td>\n",
       "      <td>Kaggle (notebooks, forums, etc),Journal Public...</td>\n",
       "      <td>Amazon Web Services (AWS) , Microsoft Azure ,...</td>\n",
       "      <td>Azure Cloud Services , Microsoft Azure Contai...</td>\n",
       "      <td>Amazon SageMaker , Amazon Forecast , Amazon R...</td>\n",
       "      <td>MongoDB ,Microsoft SQL Server ,Google Cloud Bi...</td>\n",
       "      <td>Microsoft Power BI,Amazon QuickSight,Google Da...</td>\n",
       "      <td>Automated data augmentation (e.g. imgaug, albu...</td>\n",
       "      <td>Google Cloud AutoML , Databricks AutoML ,  Au...</td>\n",
       "      <td>TensorBoard</td>\n",
       "    </tr>\n",
       "    <tr>\n",
       "      <th>1</th>\n",
       "      <td>2</td>\n",
       "      <td>289287</td>\n",
       "      <td>30-34</td>\n",
       "      <td>Man</td>\n",
       "      <td>United States of America</td>\n",
       "      <td>Master’s degree</td>\n",
       "      <td>Data Engineer</td>\n",
       "      <td>5-10 years</td>\n",
       "      <td>Python</td>\n",
       "      <td>A personal computer or laptop</td>\n",
       "      <td>...</td>\n",
       "      <td>Coursera,DataCamp,Udemy</td>\n",
       "      <td>Twitter (data science influencers),Reddit (r/m...</td>\n",
       "      <td>Amazon Web Services (AWS) , Microsoft Azure ,...</td>\n",
       "      <td>Amazon EC2 , AWS Lambda , Azure Functions , G...</td>\n",
       "      <td>Amazon SageMaker</td>\n",
       "      <td>PostgresSQL ,Amazon Redshift ,Amazon Athena</td>\n",
       "      <td>Amazon QuickSight,Microsoft Power BI,Tableau</td>\n",
       "      <td>No / None</td>\n",
       "      <td>No Answer</td>\n",
       "      <td>No / None</td>\n",
       "    </tr>\n",
       "    <tr>\n",
       "      <th>2</th>\n",
       "      <td>3</td>\n",
       "      <td>860</td>\n",
       "      <td>35-39</td>\n",
       "      <td>Man</td>\n",
       "      <td>Argentina</td>\n",
       "      <td>Bachelor’s degree</td>\n",
       "      <td>Software Engineer</td>\n",
       "      <td>10-20 years</td>\n",
       "      <td>R</td>\n",
       "      <td>A personal computer or laptop</td>\n",
       "      <td>...</td>\n",
       "      <td>Coursera,edX,Udacity,Udemy</td>\n",
       "      <td>Email newsletters (Data Elixir, O'Reilly Data ...</td>\n",
       "      <td>None,None</td>\n",
       "      <td>No Answer</td>\n",
       "      <td>No Answer</td>\n",
       "      <td>MySQL ,MySQL ,Microsoft SQL Server</td>\n",
       "      <td>None,None</td>\n",
       "      <td>No / None,None</td>\n",
       "      <td>No Answer</td>\n",
       "      <td>No / None,None</td>\n",
       "    </tr>\n",
       "    <tr>\n",
       "      <th>3</th>\n",
       "      <td>4</td>\n",
       "      <td>507</td>\n",
       "      <td>30-34</td>\n",
       "      <td>Man</td>\n",
       "      <td>United States of America</td>\n",
       "      <td>Master’s degree</td>\n",
       "      <td>Data Scientist</td>\n",
       "      <td>5-10 years</td>\n",
       "      <td>Python</td>\n",
       "      <td>A cloud computing platform (AWS, Azure, GCP, h...</td>\n",
       "      <td>...</td>\n",
       "      <td>Coursera,DataCamp,LinkedIn Learning,University...</td>\n",
       "      <td>None</td>\n",
       "      <td>Amazon Web Services (AWS) , Salesforce Cloud</td>\n",
       "      <td>Amazon EC2 , AWS Lambda</td>\n",
       "      <td>No / None</td>\n",
       "      <td>MySQL ,Amazon Redshift</td>\n",
       "      <td>Tableau</td>\n",
       "      <td>No / None</td>\n",
       "      <td>No Answer</td>\n",
       "      <td>No / None</td>\n",
       "    </tr>\n",
       "    <tr>\n",
       "      <th>4</th>\n",
       "      <td>5</td>\n",
       "      <td>78</td>\n",
       "      <td>30-34</td>\n",
       "      <td>Man</td>\n",
       "      <td>Japan</td>\n",
       "      <td>Master’s degree</td>\n",
       "      <td>Software Engineer</td>\n",
       "      <td>3-5 years</td>\n",
       "      <td>Python</td>\n",
       "      <td>No Answer</td>\n",
       "      <td>...</td>\n",
       "      <td>No Answer</td>\n",
       "      <td>No Answer</td>\n",
       "      <td>No Answer</td>\n",
       "      <td>No Answer</td>\n",
       "      <td>No Answer</td>\n",
       "      <td>No Answer</td>\n",
       "      <td>No Answer</td>\n",
       "      <td>No Answer</td>\n",
       "      <td>No Answer</td>\n",
       "      <td>No Answer</td>\n",
       "    </tr>\n",
       "  </tbody>\n",
       "</table>\n",
       "<p>5 rows × 41 columns</p>\n",
       "</div>"
      ],
      "text/plain": [
       "   Unnamed: 0  Duration(seconds)    Age Gender            Country Origin  \\\n",
       "0           1               1838  35-39    Man                  Colombia   \n",
       "1           2             289287  30-34    Man  United States of America   \n",
       "2           3                860  35-39    Man                 Argentina   \n",
       "3           4                507  30-34    Man  United States of America   \n",
       "4           5                 78  30-34    Man                     Japan   \n",
       "\n",
       "           Education      Current title Coding Experience Language Recommend  \\\n",
       "0    Doctoral degree            Student        5-10 years             Python   \n",
       "1    Master’s degree      Data Engineer        5-10 years             Python   \n",
       "2  Bachelor’s degree  Software Engineer       10-20 years                  R   \n",
       "3    Master’s degree     Data Scientist        5-10 years             Python   \n",
       "4    Master’s degree  Software Engineer         3-5 years             Python   \n",
       "\n",
       "                            Computing Platform Usage  ...  \\\n",
       "0  A cloud computing platform (AWS, Azure, GCP, h...  ...   \n",
       "1                      A personal computer or laptop  ...   \n",
       "2                      A personal computer or laptop  ...   \n",
       "3  A cloud computing platform (AWS, Azure, GCP, h...  ...   \n",
       "4                                          No Answer  ...   \n",
       "\n",
       "                                    Courses Platform  \\\n",
       "0  Coursera,Kaggle Learn Courses,University Cours...   \n",
       "1                            Coursera,DataCamp,Udemy   \n",
       "2                         Coursera,edX,Udacity,Udemy   \n",
       "3  Coursera,DataCamp,LinkedIn Learning,University...   \n",
       "4                                          No Answer   \n",
       "\n",
       "                              Media Sources Favorite  \\\n",
       "0  Kaggle (notebooks, forums, etc),Journal Public...   \n",
       "1  Twitter (data science influencers),Reddit (r/m...   \n",
       "2  Email newsletters (Data Elixir, O'Reilly Data ...   \n",
       "3                                               None   \n",
       "4                                          No Answer   \n",
       "\n",
       "                 Cloud Comp Platforms(Regularly Use)  \\\n",
       "0   Amazon Web Services (AWS) , Microsoft Azure ,...   \n",
       "1   Amazon Web Services (AWS) , Microsoft Azure ,...   \n",
       "2                                          None,None   \n",
       "3      Amazon Web Services (AWS) , Salesforce Cloud    \n",
       "4                                          No Answer   \n",
       "\n",
       "                 Cloud Comp Products(Regularly Use)   \\\n",
       "0   Azure Cloud Services , Microsoft Azure Contai...   \n",
       "1   Amazon EC2 , AWS Lambda , Azure Functions , G...   \n",
       "2                                          No Answer   \n",
       "3                           Amazon EC2 , AWS Lambda    \n",
       "4                                          No Answer   \n",
       "\n",
       "                         ML Products (Regularly Use)  \\\n",
       "0   Amazon SageMaker , Amazon Forecast , Amazon R...   \n",
       "1                                  Amazon SageMaker    \n",
       "2                                          No Answer   \n",
       "3                                          No / None   \n",
       "4                                          No Answer   \n",
       "\n",
       "                    Big Data Products(Regularly Use)  \\\n",
       "0  MongoDB ,Microsoft SQL Server ,Google Cloud Bi...   \n",
       "1       PostgresSQL ,Amazon Redshift ,Amazon Athena    \n",
       "2                MySQL ,MySQL ,Microsoft SQL Server    \n",
       "3                            MySQL ,Amazon Redshift    \n",
       "4                                          No Answer   \n",
       "\n",
       "                Business Intelligence(Regularly Use)  \\\n",
       "0  Microsoft Power BI,Amazon QuickSight,Google Da...   \n",
       "1       Amazon QuickSight,Microsoft Power BI,Tableau   \n",
       "2                                          None,None   \n",
       "3                                            Tableau   \n",
       "4                                          No Answer   \n",
       "\n",
       "                             ML Tools(Regularly Use)  \\\n",
       "0  Automated data augmentation (e.g. imgaug, albu...   \n",
       "1                                          No / None   \n",
       "2                                     No / None,None   \n",
       "3                                          No / None   \n",
       "4                                          No Answer   \n",
       "\n",
       "                   automated ML Tools(Regularly Use) Tools Help with ML  \n",
       "0   Google Cloud AutoML , Databricks AutoML ,  Au...       TensorBoard   \n",
       "1                                          No Answer          No / None  \n",
       "2                                          No Answer     No / None,None  \n",
       "3                                          No Answer          No / None  \n",
       "4                                          No Answer          No Answer  \n",
       "\n",
       "[5 rows x 41 columns]"
      ]
     },
     "execution_count": 83,
     "metadata": {},
     "output_type": "execute_result"
    }
   ],
   "source": [
    "import pandas as pd\n",
    "import numpy as np\n",
    "import matplotlib.pyplot as plt\n",
    "import seaborn as sns\n",
    "%matplotlib inline\n",
    "from matplotlib.pyplot import figure\n",
    "from collections import Counter\n",
    "\n",
    "df = pd.read_csv('Analysis Data Kaggle Survey.csv')\n",
    "df.head()"
   ]
  },
  {
   "cell_type": "markdown",
   "id": "925c790f",
   "metadata": {},
   "source": [
    "### Number of people that recommend each coding language"
   ]
  },
  {
   "cell_type": "code",
   "execution_count": 43,
   "id": "deda6aef",
   "metadata": {},
   "outputs": [
    {
     "data": {
      "text/html": [
       "<div>\n",
       "<style scoped>\n",
       "    .dataframe tbody tr th:only-of-type {\n",
       "        vertical-align: middle;\n",
       "    }\n",
       "\n",
       "    .dataframe tbody tr th {\n",
       "        vertical-align: top;\n",
       "    }\n",
       "\n",
       "    .dataframe thead th {\n",
       "        text-align: right;\n",
       "    }\n",
       "</style>\n",
       "<table border=\"1\" class=\"dataframe\">\n",
       "  <thead>\n",
       "    <tr style=\"text-align: right;\">\n",
       "      <th></th>\n",
       "      <th>Language Recommend</th>\n",
       "      <th>Number of representatives</th>\n",
       "    </tr>\n",
       "  </thead>\n",
       "  <tbody>\n",
       "    <tr>\n",
       "      <th>10</th>\n",
       "      <td>Python</td>\n",
       "      <td>14241</td>\n",
       "    </tr>\n",
       "    <tr>\n",
       "      <th>7</th>\n",
       "      <td>No Answer</td>\n",
       "      <td>2215</td>\n",
       "    </tr>\n",
       "    <tr>\n",
       "      <th>11</th>\n",
       "      <td>R</td>\n",
       "      <td>1259</td>\n",
       "    </tr>\n",
       "    <tr>\n",
       "      <th>12</th>\n",
       "      <td>SQL</td>\n",
       "      <td>849</td>\n",
       "    </tr>\n",
       "    <tr>\n",
       "      <th>2</th>\n",
       "      <td>C++</td>\n",
       "      <td>325</td>\n",
       "    </tr>\n",
       "    <tr>\n",
       "      <th>1</th>\n",
       "      <td>C</td>\n",
       "      <td>301</td>\n",
       "    </tr>\n",
       "    <tr>\n",
       "      <th>6</th>\n",
       "      <td>MATLAB</td>\n",
       "      <td>195</td>\n",
       "    </tr>\n",
       "    <tr>\n",
       "      <th>3</th>\n",
       "      <td>Java</td>\n",
       "      <td>167</td>\n",
       "    </tr>\n",
       "    <tr>\n",
       "      <th>9</th>\n",
       "      <td>Other</td>\n",
       "      <td>151</td>\n",
       "    </tr>\n",
       "    <tr>\n",
       "      <th>5</th>\n",
       "      <td>Julia</td>\n",
       "      <td>121</td>\n",
       "    </tr>\n",
       "    <tr>\n",
       "      <th>4</th>\n",
       "      <td>Javascript</td>\n",
       "      <td>88</td>\n",
       "    </tr>\n",
       "    <tr>\n",
       "      <th>8</th>\n",
       "      <td>None</td>\n",
       "      <td>81</td>\n",
       "    </tr>\n",
       "    <tr>\n",
       "      <th>0</th>\n",
       "      <td>Bash</td>\n",
       "      <td>26</td>\n",
       "    </tr>\n",
       "    <tr>\n",
       "      <th>13</th>\n",
       "      <td>Swift</td>\n",
       "      <td>17</td>\n",
       "    </tr>\n",
       "  </tbody>\n",
       "</table>\n",
       "</div>"
      ],
      "text/plain": [
       "   Language Recommend  Number of representatives\n",
       "10             Python                      14241\n",
       "7           No Answer                       2215\n",
       "11                  R                       1259\n",
       "12                SQL                        849\n",
       "2                 C++                        325\n",
       "1                   C                        301\n",
       "6              MATLAB                        195\n",
       "3                Java                        167\n",
       "9               Other                        151\n",
       "5               Julia                        121\n",
       "4          Javascript                         88\n",
       "8                None                         81\n",
       "0                Bash                         26\n",
       "13              Swift                         17"
      ]
     },
     "execution_count": 43,
     "metadata": {},
     "output_type": "execute_result"
    }
   ],
   "source": [
    "set_1.groupby('Language Recommend').sum()['Number of representatives'].reset_index().sort_values(by = 'Number of representatives', ascending = False)"
   ]
  },
  {
   "cell_type": "markdown",
   "id": "5acbb795",
   "metadata": {},
   "source": [
    "###  Number of people for each education level"
   ]
  },
  {
   "cell_type": "code",
   "execution_count": 44,
   "id": "17ea8383",
   "metadata": {},
   "outputs": [
    {
     "data": {
      "text/html": [
       "<div>\n",
       "<style scoped>\n",
       "    .dataframe tbody tr th:only-of-type {\n",
       "        vertical-align: middle;\n",
       "    }\n",
       "\n",
       "    .dataframe tbody tr th {\n",
       "        vertical-align: top;\n",
       "    }\n",
       "\n",
       "    .dataframe thead th {\n",
       "        text-align: right;\n",
       "    }\n",
       "</style>\n",
       "<table border=\"1\" class=\"dataframe\">\n",
       "  <thead>\n",
       "    <tr style=\"text-align: right;\">\n",
       "      <th></th>\n",
       "      <th>Education</th>\n",
       "      <th>Number of representatives</th>\n",
       "    </tr>\n",
       "  </thead>\n",
       "  <tbody>\n",
       "    <tr>\n",
       "      <th>3</th>\n",
       "      <td>Master’s degree</td>\n",
       "      <td>7859</td>\n",
       "    </tr>\n",
       "    <tr>\n",
       "      <th>0</th>\n",
       "      <td>Bachelor’s degree</td>\n",
       "      <td>6978</td>\n",
       "    </tr>\n",
       "    <tr>\n",
       "      <th>1</th>\n",
       "      <td>Doctoral degree</td>\n",
       "      <td>2302</td>\n",
       "    </tr>\n",
       "    <tr>\n",
       "      <th>7</th>\n",
       "      <td>Some college/university study without earning ...</td>\n",
       "      <td>1092</td>\n",
       "    </tr>\n",
       "    <tr>\n",
       "      <th>6</th>\n",
       "      <td>Professional degree</td>\n",
       "      <td>699</td>\n",
       "    </tr>\n",
       "    <tr>\n",
       "      <th>4</th>\n",
       "      <td>No Answer</td>\n",
       "      <td>467</td>\n",
       "    </tr>\n",
       "    <tr>\n",
       "      <th>2</th>\n",
       "      <td>I prefer not to answer</td>\n",
       "      <td>399</td>\n",
       "    </tr>\n",
       "    <tr>\n",
       "      <th>5</th>\n",
       "      <td>No formal education past high school</td>\n",
       "      <td>240</td>\n",
       "    </tr>\n",
       "  </tbody>\n",
       "</table>\n",
       "</div>"
      ],
      "text/plain": [
       "                                           Education  \\\n",
       "3                                    Master’s degree   \n",
       "0                                  Bachelor’s degree   \n",
       "1                                    Doctoral degree   \n",
       "7  Some college/university study without earning ...   \n",
       "6                                Professional degree   \n",
       "4                                          No Answer   \n",
       "2                             I prefer not to answer   \n",
       "5               No formal education past high school   \n",
       "\n",
       "   Number of representatives  \n",
       "3                       7859  \n",
       "0                       6978  \n",
       "1                       2302  \n",
       "7                       1092  \n",
       "6                        699  \n",
       "4                        467  \n",
       "2                        399  \n",
       "5                        240  "
      ]
     },
     "execution_count": 44,
     "metadata": {},
     "output_type": "execute_result"
    }
   ],
   "source": [
    "set_1.groupby('Education').sum()['Number of representatives'].reset_index().sort_values(by = 'Number of representatives', ascending = False)"
   ]
  },
  {
   "cell_type": "code",
   "execution_count": 42,
   "id": "31ab3b80",
   "metadata": {},
   "outputs": [
    {
     "data": {
      "text/plain": [
       "<matplotlib.legend.Legend at 0x1dbe0014f70>"
      ]
     },
     "execution_count": 42,
     "metadata": {},
     "output_type": "execute_result"
    },
    {
     "data": {
      "image/png": "[encoded data removed]",
      "text/plain": [
       "<Figure size 1440x720 with 1 Axes>"
      ]
     },
     "metadata": {
      "needs_background": "light"
     },
     "output_type": "display_data"
    }
   ],
   "source": [
    "figure(figsize = (20,10))\n",
    "plt.title('Language Recommendation and comparison between Education', fontsize =20)\n",
    "sns.barplot(x= 'Language Recommend', y= 'Number of representatives', hue = 'Education',data = set_1)\n",
    "plt.xlabel('Language Recommend', fontsize = 17)\n",
    "plt.ylabel('Number of representatives', fontsize = 18)\n",
    "plt.tick_params(axis='both', which='major', labelsize=15)\n",
    "plt.legend(loc=2, prop={'size': 16})"
   ]
  },
  {
   "cell_type": "markdown",
   "id": "b8b289b1",
   "metadata": {},
   "source": [
    "### Country originated count"
   ]
  },
  {
   "cell_type": "code",
   "execution_count": 82,
   "id": "8fd453a8",
   "metadata": {},
   "outputs": [
    {
     "data": {
      "text/html": [
       "<div>\n",
       "<style scoped>\n",
       "    .dataframe tbody tr th:only-of-type {\n",
       "        vertical-align: middle;\n",
       "    }\n",
       "\n",
       "    .dataframe tbody tr th {\n",
       "        vertical-align: top;\n",
       "    }\n",
       "\n",
       "    .dataframe thead th {\n",
       "        text-align: right;\n",
       "    }\n",
       "</style>\n",
       "<table border=\"1\" class=\"dataframe\">\n",
       "  <thead>\n",
       "    <tr style=\"text-align: right;\">\n",
       "      <th></th>\n",
       "      <th>index</th>\n",
       "      <th>Country Origin</th>\n",
       "    </tr>\n",
       "  </thead>\n",
       "  <tbody>\n",
       "    <tr>\n",
       "      <th>0</th>\n",
       "      <td>India</td>\n",
       "      <td>5851</td>\n",
       "    </tr>\n",
       "    <tr>\n",
       "      <th>1</th>\n",
       "      <td>United States of America</td>\n",
       "      <td>2237</td>\n",
       "    </tr>\n",
       "    <tr>\n",
       "      <th>2</th>\n",
       "      <td>Other</td>\n",
       "      <td>1388</td>\n",
       "    </tr>\n",
       "    <tr>\n",
       "      <th>3</th>\n",
       "      <td>Brazil</td>\n",
       "      <td>694</td>\n",
       "    </tr>\n",
       "    <tr>\n",
       "      <th>4</th>\n",
       "      <td>Japan</td>\n",
       "      <td>638</td>\n",
       "    </tr>\n",
       "  </tbody>\n",
       "</table>\n",
       "</div>"
      ],
      "text/plain": [
       "                      index  Country Origin\n",
       "0                     India            5851\n",
       "1  United States of America            2237\n",
       "2                     Other            1388\n",
       "3                    Brazil             694\n",
       "4                     Japan             638"
      ]
     },
     "execution_count": 82,
     "metadata": {},
     "output_type": "execute_result"
    }
   ],
   "source": [
    "df['Country Origin'].value_counts().reset_index().head()"
   ]
  },
  {
   "cell_type": "markdown",
   "id": "bd86b3b0",
   "metadata": {},
   "source": [
    "### Courses Platform count"
   ]
  },
  {
   "cell_type": "code",
   "execution_count": 101,
   "id": "b05a2c11",
   "metadata": {},
   "outputs": [
    {
     "data": {
      "text/plain": [
       "[('Coursera', 7382),\n",
       " ('No Answer', 6203),\n",
       " ('Kaggle Learn Courses', 4843),\n",
       " ('Udemy', 4626),\n",
       " ('University Courses (resulting in a university degree)', 3568),\n",
       " ('DataCamp', 3032),\n",
       " ('edX', 2498),\n",
       " ('Udacity', 2056),\n",
       " ('Other', 1636),\n",
       " ('LinkedIn Learning', 1617),\n",
       " ('None', 1306),\n",
       " ('Cloud-certification programs (direct from AWS', 1076),\n",
       " (' Azure', 1076),\n",
       " (' GCP', 1076),\n",
       " (' or similar)', 1076),\n",
       " ('Fast.ai', 1058)]"
      ]
     },
     "execution_count": 101,
     "metadata": {},
     "output_type": "execute_result"
    }
   ],
   "source": [
    "words_count = \",\".join(map(str,df[\"Courses Platform\"])).split(',')\n",
    "\n",
    "Counter(words_count).most_common(50)"
   ]
  },
  {
   "cell_type": "markdown",
   "id": "b4c01685",
   "metadata": {},
   "source": [
    "Top 5 Recommendation Courses:\n",
    "* Coursera\n",
    "* Kaggle Courses\n",
    "* Udemy\n",
    "* University\n",
    "* Datacamp"
   ]
  },
  {
   "cell_type": "markdown",
   "id": "5dfe5629",
   "metadata": {},
   "source": [
    "### Salary count"
   ]
  },
  {
   "cell_type": "code",
   "execution_count": 107,
   "id": "effc624e",
   "metadata": {},
   "outputs": [
    {
     "data": {
      "text/plain": [
       "No Answer          9307\n",
       "$0-999             2128\n",
       "10,000-14,999       665\n",
       "1,000-1,999         581\n",
       "100,000-124,999     573\n",
       "40,000-49,999       552\n",
       "30,000-39,999       540\n",
       "50,000-59,999       510\n",
       "5,000-7,499         488\n",
       "15,000-19,999       449\n",
       "60,000-69,999       408\n",
       "20,000-24,999       404\n",
       "70,000-79,999       394\n",
       "7,500-9,999         371\n",
       "150,000-199,999     347\n",
       "2,000-2,999         330\n",
       "125,000-149,999     315\n",
       "25,000-29,999       310\n",
       "90,000-99,999       280\n",
       "4,000-4,999         279\n",
       "80,000-89,999       273\n",
       "3,000-3,999         264\n",
       "200,000-249,999     115\n",
       "300,000-500,000      55\n",
       "> $500,000           50\n",
       "250,000-299,999      48\n",
       "Name: Salary, dtype: int64"
      ]
     },
     "execution_count": 107,
     "metadata": {},
     "output_type": "execute_result"
    }
   ],
   "source": [
    "df['Salary'].value_counts()"
   ]
  },
  {
   "cell_type": "markdown",
   "id": "98176e56",
   "metadata": {},
   "source": [
    "## Current title count"
   ]
  },
  {
   "cell_type": "code",
   "execution_count": 110,
   "id": "fe80a7dc",
   "metadata": {},
   "outputs": [
    {
     "data": {
      "text/plain": [
       "Student                      5171\n",
       "Data Scientist               2676\n",
       "Software Engineer            1968\n",
       "Other                        1737\n",
       "Currently not employed       1652\n",
       "Data Analyst                 1475\n",
       "Research Scientist           1174\n",
       "Machine Learning Engineer    1082\n",
       "Business Analyst              798\n",
       "No Answer                     759\n",
       "Product/Project Manager       692\n",
       "Data Engineer                 437\n",
       "Statistician                  290\n",
       "DBA/Database Engineer         125\n",
       "Name: Current title, dtype: int64"
      ]
     },
     "execution_count": 110,
     "metadata": {},
     "output_type": "execute_result"
    }
   ],
   "source": [
    "df['Current title'].value_counts()"
   ]
  },
  {
   "cell_type": "markdown",
   "id": "5a2f3bd0",
   "metadata": {},
   "source": [
    "##  General summary finding from the survey"
   ]
  },
  {
   "cell_type": "markdown",
   "id": "8780839f",
   "metadata": {},
   "source": [
    "* Python is the most recommended language according to the survey with R come to 2nd and SQL is 3rd\n",
    "* Most representatives are originated from India and United States\n",
    "* Majority of the surveyers have Master and Bachelor degree\n",
    "* Most surveyers do not want to answer about their salary\n",
    "* There are 5171 Students in the surveys approximately 26%\n",
    "* Top 5 courses platform recommendation are (1. Coursera, 2. Kaggle Courses, 3. Udemy,4. University, 5. Datacamp)\n",
    "\n"
   ]
  },
  {
   "cell_type": "markdown",
   "id": "625fc5a0",
   "metadata": {},
   "source": [
    "# Let see the comparison between Data Scientists and Software Engineers"
   ]
  },
  {
   "cell_type": "code",
   "execution_count": 114,
   "id": "e8c9970f",
   "metadata": {},
   "outputs": [],
   "source": [
    "ds = df[df['Current title'] == 'Data Scientist']\n",
    "se = df[df['Current title'] == 'Software Engineer']"
   ]
  },
  {
   "cell_type": "markdown",
   "id": "860a95d5",
   "metadata": {},
   "source": [
    "## Data Scientists origin count"
   ]
  },
  {
   "cell_type": "code",
   "execution_count": 117,
   "id": "9dcc7519",
   "metadata": {},
   "outputs": [
    {
     "data": {
      "text/plain": [
       "India                                                   583\n",
       "United States of America                                389\n",
       "Other                                                   180\n",
       "Brazil                                                  123\n",
       "United Kingdom of Great Britain and Northern Ireland    112\n",
       "Name: Country Origin, dtype: int64"
      ]
     },
     "execution_count": 117,
     "metadata": {},
     "output_type": "execute_result"
    }
   ],
   "source": [
    "ds['Country Origin'].value_counts().head()"
   ]
  },
  {
   "cell_type": "markdown",
   "id": "12b4f5cf",
   "metadata": {},
   "source": [
    "## Software Engineer origin count"
   ]
  },
  {
   "cell_type": "code",
   "execution_count": 118,
   "id": "b5c5bd1e",
   "metadata": {},
   "outputs": [
    {
     "data": {
      "text/plain": [
       "India                       598\n",
       "United States of America    219\n",
       "Other                       142\n",
       "Japan                        98\n",
       "Brazil                       76\n",
       "Name: Country Origin, dtype: int64"
      ]
     },
     "execution_count": 118,
     "metadata": {},
     "output_type": "execute_result"
    }
   ],
   "source": [
    "se['Country Origin'].value_counts().head()"
   ]
  },
  {
   "cell_type": "markdown",
   "id": "c7e53634",
   "metadata": {},
   "source": [
    "## Data Scientists language recommendation"
   ]
  },
  {
   "cell_type": "code",
   "execution_count": 121,
   "id": "88dad5a5",
   "metadata": {},
   "outputs": [
    {
     "data": {
      "text/plain": [
       "Python       2087\n",
       "R             217\n",
       "SQL           187\n",
       "No Answer      70\n",
       "Julia          20\n",
       "Name: Language Recommend, dtype: int64"
      ]
     },
     "execution_count": 121,
     "metadata": {},
     "output_type": "execute_result"
    }
   ],
   "source": [
    "ds['Language Recommend'].value_counts().head()"
   ]
  },
  {
   "cell_type": "markdown",
   "id": "574deb87",
   "metadata": {},
   "source": [
    "### Software Engineers language recommendation"
   ]
  },
  {
   "cell_type": "code",
   "execution_count": 122,
   "id": "33ad8941",
   "metadata": {},
   "outputs": [
    {
     "data": {
      "text/plain": [
       "Python       1575\n",
       "R              76\n",
       "No Answer      65\n",
       "SQL            62\n",
       "C              40\n",
       "Name: Language Recommend, dtype: int64"
      ]
     },
     "execution_count": 122,
     "metadata": {},
     "output_type": "execute_result"
    }
   ],
   "source": [
    "se['Language Recommend'].value_counts().head()"
   ]
  },
  {
   "cell_type": "markdown",
   "id": "bf98c810",
   "metadata": {},
   "source": [
    "## Data Scientists Courses Platforms Learn"
   ]
  },
  {
   "cell_type": "code",
   "execution_count": 125,
   "id": "0831511d",
   "metadata": {},
   "outputs": [
    {
     "data": {
      "text/plain": [
       "[('Coursera', 1410),\n",
       " ('Udemy', 777),\n",
       " ('University Courses (resulting in a university degree)', 689),\n",
       " ('Kaggle Learn Courses', 675),\n",
       " ('DataCamp', 663),\n",
       " ('edX', 500),\n",
       " ('No Answer', 438),\n",
       " ('Udacity', 428),\n",
       " ('LinkedIn Learning', 276),\n",
       " ('Fast.ai', 264),\n",
       " ('Other', 222),\n",
       " ('Cloud-certification programs (direct from AWS', 203),\n",
       " (' Azure', 203),\n",
       " (' GCP', 203),\n",
       " (' or similar)', 203),\n",
       " ('None', 165)]"
      ]
     },
     "execution_count": 125,
     "metadata": {},
     "output_type": "execute_result"
    }
   ],
   "source": [
    "words_count = \",\".join(map(str,ds[\"Courses Platform\"])).split(',')\n",
    "\n",
    "Counter(words_count).most_common(50)"
   ]
  },
  {
   "cell_type": "markdown",
   "id": "f605e707",
   "metadata": {},
   "source": [
    "### Software Engineers Courses Platforms Learn"
   ]
  },
  {
   "cell_type": "code",
   "execution_count": 124,
   "id": "806fcbb4",
   "metadata": {},
   "outputs": [
    {
     "data": {
      "text/plain": [
       "[('Coursera', 762),\n",
       " ('Udemy', 537),\n",
       " ('Kaggle Learn Courses', 514),\n",
       " ('No Answer', 512),\n",
       " ('University Courses (resulting in a university degree)', 298),\n",
       " ('Udacity', 246),\n",
       " ('DataCamp', 211),\n",
       " ('edX', 199),\n",
       " ('None', 172),\n",
       " ('LinkedIn Learning', 158),\n",
       " ('Other', 148),\n",
       " ('Fast.ai', 137),\n",
       " ('Cloud-certification programs (direct from AWS', 114),\n",
       " (' Azure', 114),\n",
       " (' GCP', 114),\n",
       " (' or similar)', 114)]"
      ]
     },
     "execution_count": 124,
     "metadata": {},
     "output_type": "execute_result"
    }
   ],
   "source": [
    "words_count = \",\".join(map(str,se[\"Courses Platform\"])).split(',')\n",
    "\n",
    "Counter(words_count).most_common(50)"
   ]
  },
  {
   "cell_type": "markdown",
   "id": "29d9a465",
   "metadata": {},
   "source": [
    "## Surprising Finding"
   ]
  },
  {
   "cell_type": "markdown",
   "id": "fa1d74b7",
   "metadata": {},
   "source": [
    "* Most people from the survey with SE or DS as their title recommend the same coding language(1.Python,2.R,3.SQL)\n",
    "* Both SE and DS mostly originated from India\n",
    "* DS have different courses recommendation where DS have university courses rank 3rd whereas SE rank 5th\n",
    "* This could shows that most SE are self-taught by other platforms than going to traditional university.\n",
    "* Both SE and DS learn mostly on Coursera and Udemy. This can proves that Software Engineers and Data Scientists can mostly be self-taught without going to university."
   ]
  }
 ],
 "metadata": {
  "kernelspec": {
   "display_name": "Python 3 (ipykernel)",
   "language": "python",
   "name": "python3"
  },
  "language_info": {
   "codemirror_mode": {
    "name": "ipython",
    "version": 3
   },
   "file_extension": ".py",
   "mimetype": "text/x-python",
   "name": "python",
   "nbconvert_exporter": "python",
   "pygments_lexer": "ipython3",
   "version": "3.9.12"
  }
 },
 "nbformat": 4,
 "nbformat_minor": 5
}
